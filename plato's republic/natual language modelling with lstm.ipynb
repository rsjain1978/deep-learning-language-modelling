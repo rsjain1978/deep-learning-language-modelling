{
 "cells": [
  {
   "cell_type": "code",
   "execution_count": 1,
   "metadata": {},
   "outputs": [],
   "source": [
    "import pandas as pd\n",
    "import numpy as np"
   ]
  },
  {
   "cell_type": "markdown",
   "metadata": {},
   "source": [
    "# Read the Republic Data file - Plato document\n",
    "\n",
    "    - This file is available at http://www.gutenberg.org/cache/epub/1497/pg1497.txt\n",
    "    "
   ]
  },
  {
   "cell_type": "code",
   "execution_count": 2,
   "metadata": {},
   "outputs": [],
   "source": [
    "def read_file(file):\n",
    "    f = open(file, 'r', encoding='utf-8')\n",
    "    lines = f.readlines()\n",
    "    data = '\\t'.join([line.strip() for line in lines])\n",
    "    return data\n",
    "\n",
    "data = read_file('republic.txt')"
   ]
  },
  {
   "cell_type": "markdown",
   "metadata": {},
   "source": [
    "# Clean the Read file"
   ]
  },
  {
   "cell_type": "code",
   "execution_count": 3,
   "metadata": {},
   "outputs": [
    {
     "name": "stderr",
     "output_type": "stream",
     "text": [
      "[nltk_data] Downloading package stopwords to C:\\Users\\Aditya\n",
      "[nltk_data]     Jain\\AppData\\Roaming\\nltk_data...\n",
      "[nltk_data]   Package stopwords is already up-to-date!\n"
     ]
    },
    {
     "data": {
      "text/plain": [
       "True"
      ]
     },
     "execution_count": 3,
     "metadata": {},
     "output_type": "execute_result"
    }
   ],
   "source": [
    "import nltk\n",
    "nltk.download('stopwords')"
   ]
  },
  {
   "cell_type": "markdown",
   "metadata": {},
   "source": [
    "# Text cleansing\n",
    "\n",
    "    - Good article available at https://www.analyticsvidhya.com/blog/2018/02/the-different-methods-deal-text-data-predictive-python/"
   ]
  },
  {
   "cell_type": "code",
   "execution_count": 4,
   "metadata": {},
   "outputs": [
    {
     "name": "stdout",
     "output_type": "stream",
     "text": [
      "Number of tokens are  34821\n",
      "Number of unique tokens is  6788\n"
     ]
    }
   ],
   "source": [
    "import re\n",
    "import string\n",
    "from nltk.corpus import stopwords\n",
    "import pandas as pd\n",
    "\n",
    "def clean_doc(doc):\n",
    "    \n",
    "    #replace -- with a space\n",
    "    doc = doc.replace('-',' ')\n",
    "    \n",
    "    #replace -- with a space\n",
    "    doc = doc.replace('.',' ')\n",
    "    \n",
    "    #split into tokens by white space\n",
    "    tokens = doc.split()\n",
    "    \n",
    "    # prepare for char filtering\n",
    "    re_punc = re.compile('[%s]'%re.escape(string.punctuation))\n",
    "    \n",
    "    #remove punctuation from words\n",
    "    tokens = [re_punc.sub('',w) for w in tokens]\n",
    "    \n",
    "    #remove remaining tokens that are not alphanumerics\n",
    "    tokens = [word for word in tokens if word.isalpha()]\n",
    "    \n",
    "    #make lower case\n",
    "    tokens = [word.lower() for word in tokens]\n",
    "    \n",
    "    #remove stop words & words which appear less than 1 times\n",
    "    stops = set(stopwords.words(\"english\"))\n",
    "    tokens = [word for word in tokens if not word in stops and len(word)>=3]\n",
    "\n",
    "    return tokens\n",
    "\n",
    "tokens = clean_doc(data)\n",
    "                 \n",
    "print ('Number of tokens are ', len(tokens))\n",
    "print ('Number of unique tokens is ', len(set(tokens)))"
   ]
  },
  {
   "cell_type": "markdown",
   "metadata": {},
   "source": [
    "# Generate Sequences\n",
    "\n",
    "    - This method takes in bunch of tokens and then converts those tokens into sequences. The idea here is that we create\n",
    "    sequences of 21 tokens (words) each and then feed each sequence one at a time to the network. each word in the sequence represents a value at a given timesteps. All words in effect become the features"
   ]
  },
  {
   "cell_type": "code",
   "execution_count": 5,
   "metadata": {},
   "outputs": [
    {
     "name": "stdout",
     "output_type": "stream",
     "text": [
      "Total number of sequenes is  34801\n"
     ]
    }
   ],
   "source": [
    "words_per_sequence = 20\n",
    "\n",
    "def generate_sequences(size, tokens):\n",
    "    sequences = list()\n",
    "    size_seq = size + 1\n",
    "    for i in range (0, len(tokens)-size):\n",
    "        seq = tokens[i:size_seq+i]\n",
    "        line = ' '.join(seq)\n",
    "        sequences.append(line)\n",
    "        \n",
    "    print ('Total number of sequenes is ', len(sequences))\n",
    "    return sequences\n",
    "\n",
    "sequences = generate_sequences(words_per_sequence, tokens)"
   ]
  },
  {
   "cell_type": "markdown",
   "metadata": {},
   "source": [
    "# Save generated sequences in new file"
   ]
  },
  {
   "cell_type": "code",
   "execution_count": 6,
   "metadata": {},
   "outputs": [],
   "source": [
    "def save_sequences(filename, sequences):\n",
    "    \n",
    "    file = open(filename,'w',encoding='utf-8')\n",
    "    lines = '\\n'.join(sequences)\n",
    "    file.write(lines)\n",
    "    file.close()\n",
    "    \n",
    "save_sequences('cleaned-republic.txt', sequences)"
   ]
  },
  {
   "cell_type": "markdown",
   "metadata": {},
   "source": [
    "# Read cleaned sequences from file"
   ]
  },
  {
   "cell_type": "code",
   "execution_count": 7,
   "metadata": {},
   "outputs": [],
   "source": [
    "def read_sequences(file):\n",
    "    f = open(file, 'r', encoding='utf-8')\n",
    "    lines = f.read()\n",
    "    return lines\n",
    "\n",
    "lines = read_sequences('cleaned-republic.txt')\n",
    "lines = lines.split('\\n')"
   ]
  },
  {
   "cell_type": "markdown",
   "metadata": {},
   "source": [
    "# Tokenize & Create Sequences of Numbers"
   ]
  },
  {
   "cell_type": "code",
   "execution_count": 8,
   "metadata": {},
   "outputs": [
    {
     "name": "stderr",
     "output_type": "stream",
     "text": [
      "Using TensorFlow backend.\n"
     ]
    },
    {
     "name": "stdout",
     "output_type": "stream",
     "text": [
      "[ 111 6788  435   29 3600  938  279 6787 3598  666 3597  665 1093 6785\n",
      " 2483  339 2482   55  303  304]\n"
     ]
    }
   ],
   "source": [
    "from keras.preprocessing.text import Tokenizer\n",
    "from keras.preprocessing.sequence import pad_sequences\n",
    "\n",
    "import numpy as np\n",
    "\n",
    "def tokenize_documents(lines):\n",
    "    tokenizer = Tokenizer(num_words=6789)\n",
    "    tokenizer.fit_on_texts(lines)\n",
    "    sequences = tokenizer.texts_to_sequences(lines)\n",
    "    return (tokenizer, sequences)\n",
    "\n",
    "(tokenizer, sequences) = tokenize_documents(lines)\n",
    "sequences = pad_sequences(sequences, maxlen=words_per_sequence, padding='pre')\n",
    "\n",
    "print (sequences[0])"
   ]
  },
  {
   "cell_type": "code",
   "execution_count": null,
   "metadata": {},
   "outputs": [
    {
     "name": "stdout",
     "output_type": "stream",
     "text": [
      "Vocab length is  6789\n",
      "Number of sequences is  34801\n",
      "Max length of all sequences is  20\n"
     ]
    }
   ],
   "source": [
    "vocab_len = len (tokenizer.word_index)+1\n",
    "print ('Vocab length is ', vocab_len)\n",
    "print ('Number of sequences is ', len(sequences))\n",
    "maxlength = max([len(seq) for seq in sequences])\n",
    "print ('Max length of all sequences is ', maxlength)"
   ]
  },
  {
   "cell_type": "code",
   "execution_count": null,
   "metadata": {},
   "outputs": [],
   "source": [
    "from keras.utils import to_categorical\n",
    "\n",
    "sequences = np.array(sequences)\n",
    "X = sequences[:,:words_per_sequence]\n",
    "y = sequences[:,-1]\n",
    "y = to_categorical(y, num_classes=vocab_len)"
   ]
  },
  {
   "cell_type": "markdown",
   "metadata": {},
   "source": [
    "# Configure Callbacks which would be executed during the training phase"
   ]
  },
  {
   "cell_type": "code",
   "execution_count": null,
   "metadata": {},
   "outputs": [],
   "source": [
    "from keras.callbacks import EarlyStopping\n",
    "from keras.callbacks import ModelCheckpoint\n",
    "from keras.callbacks import ReduceLROnPlateau\n",
    "from keras.callbacks import TensorBoard\n",
    "\n",
    "def create_callbacks():\n",
    "    callbacks = [\n",
    "        #EarlyStopping(monitor='acc', patience=5),\n",
    "        ModelCheckpoint(filepath='republic-model.h5', monitor='val_loss', save_best_only=True),\n",
    "        ReduceLROnPlateau(monitor='val_loss', factor=0.1, patience=5)\n",
    "    ]\n",
    "    return callbacks"
   ]
  },
  {
   "cell_type": "markdown",
   "metadata": {},
   "source": [
    "# Actual Language Model"
   ]
  },
  {
   "cell_type": "code",
   "execution_count": null,
   "metadata": {},
   "outputs": [],
   "source": [
    "from keras.models import Sequential\n",
    "from keras.layers import Dense\n",
    "from keras.layers import Embedding\n",
    "from keras.layers import Flatten\n",
    "from keras.layers import LSTM\n",
    "from keras.layers import Conv1D\n",
    "\n",
    "def create_model():\n",
    "    model = Sequential()\n",
    "    \n",
    "    #Embedding layer has three attributes\n",
    "        # input_dim - size of the vocabulary\n",
    "        # output_dim - number of dimensions in which each word is embedded\n",
    "        # input_length - length of each word\n",
    "    model.add(Embedding(input_dim=vocab_len,output_dim=50,input_length=words_per_sequence))\n",
    "    model.add(LSTM(100, return_sequences=True))\n",
    "    model.add(LSTM(100))\n",
    "    model.add(Dense(100, activation='relu'))\n",
    "    model.add(Dense(vocab_len, activation='softmax'))\n",
    "    model.compile(optimizer='adam', loss='categorical_crossentropy', metrics=['accuracy'])\n",
    "    model.summary()\n",
    "    return model"
   ]
  },
  {
   "cell_type": "code",
   "execution_count": null,
   "metadata": {},
   "outputs": [
    {
     "name": "stdout",
     "output_type": "stream",
     "text": [
      "(34801, 20)\n",
      "(34801, 6789)\n",
      "[ 111 6788  435   29 3600  938  279 6787 3598  666 3597  665 1093 6785\n",
      " 2483  339 2482   55  303  304]\n",
      "[0. 0. 0. ... 0. 0. 0.]\n"
     ]
    }
   ],
   "source": [
    "print (X.shape)\n",
    "print (y.shape)\n",
    "print (X[0])\n",
    "print (y[0])"
   ]
  },
  {
   "cell_type": "code",
   "execution_count": null,
   "metadata": {},
   "outputs": [
    {
     "name": "stderr",
     "output_type": "stream",
     "text": [
      "WARNING: Logging before flag parsing goes to stderr.\n",
      "W0914 02:38:09.227744  1572 deprecation_wrapper.py:119] From C:\\MachineLearning\\anaconda\\lib\\site-packages\\keras\\backend\\tensorflow_backend.py:74: The name tf.get_default_graph is deprecated. Please use tf.compat.v1.get_default_graph instead.\n",
      "\n",
      "W0914 02:38:09.245744  1572 deprecation_wrapper.py:119] From C:\\MachineLearning\\anaconda\\lib\\site-packages\\keras\\backend\\tensorflow_backend.py:517: The name tf.placeholder is deprecated. Please use tf.compat.v1.placeholder instead.\n",
      "\n",
      "W0914 02:38:09.248744  1572 deprecation_wrapper.py:119] From C:\\MachineLearning\\anaconda\\lib\\site-packages\\keras\\backend\\tensorflow_backend.py:4138: The name tf.random_uniform is deprecated. Please use tf.random.uniform instead.\n",
      "\n",
      "W0914 02:38:09.589744  1572 deprecation_wrapper.py:119] From C:\\MachineLearning\\anaconda\\lib\\site-packages\\keras\\optimizers.py:790: The name tf.train.Optimizer is deprecated. Please use tf.compat.v1.train.Optimizer instead.\n",
      "\n",
      "W0914 02:38:09.608744  1572 deprecation_wrapper.py:119] From C:\\MachineLearning\\anaconda\\lib\\site-packages\\keras\\backend\\tensorflow_backend.py:3295: The name tf.log is deprecated. Please use tf.math.log instead.\n",
      "\n",
      "W0914 02:38:09.720744  1572 deprecation.py:323] From C:\\MachineLearning\\anaconda\\lib\\site-packages\\tensorflow\\python\\ops\\math_grad.py:1250: add_dispatch_support.<locals>.wrapper (from tensorflow.python.ops.array_ops) is deprecated and will be removed in a future version.\n",
      "Instructions for updating:\n",
      "Use tf.where in 2.0, which has the same broadcast rule as np.where\n"
     ]
    },
    {
     "name": "stdout",
     "output_type": "stream",
     "text": [
      "_________________________________________________________________\n",
      "Layer (type)                 Output Shape              Param #   \n",
      "=================================================================\n",
      "embedding_1 (Embedding)      (None, 20, 50)            339450    \n",
      "_________________________________________________________________\n",
      "lstm_1 (LSTM)                (None, 20, 100)           60400     \n",
      "_________________________________________________________________\n",
      "lstm_2 (LSTM)                (None, 100)               80400     \n",
      "_________________________________________________________________\n",
      "dense_1 (Dense)              (None, 100)               10100     \n",
      "_________________________________________________________________\n",
      "dense_2 (Dense)              (None, 6789)              685689    \n",
      "=================================================================\n",
      "Total params: 1,176,039\n",
      "Trainable params: 1,176,039\n",
      "Non-trainable params: 0\n",
      "_________________________________________________________________\n"
     ]
    },
    {
     "name": "stderr",
     "output_type": "stream",
     "text": [
      "W0914 02:38:10.958744  1572 deprecation_wrapper.py:119] From C:\\MachineLearning\\anaconda\\lib\\site-packages\\keras\\backend\\tensorflow_backend.py:986: The name tf.assign_add is deprecated. Please use tf.compat.v1.assign_add instead.\n",
      "\n"
     ]
    },
    {
     "name": "stdout",
     "output_type": "stream",
     "text": [
      "Train on 31320 samples, validate on 3481 samples\n",
      "Epoch 1/2000\n",
      "31320/31320 [==============================] - 28s 901us/step - loss: 7.9537 - acc: 0.0076 - val_loss: 7.3371 - val_acc: 0.0115\n",
      "Epoch 2/2000\n",
      "31320/31320 [==============================] - 25s 807us/step - loss: 6.8182 - acc: 0.0122 - val_loss: 6.7607 - val_acc: 0.0126\n",
      "Epoch 3/2000\n",
      "31320/31320 [==============================] - 26s 821us/step - loss: 6.3645 - acc: 0.0193 - val_loss: 6.6489 - val_acc: 0.0204\n",
      "Epoch 4/2000\n",
      "18816/31320 [=================>............] - ETA: 10s - loss: 6.1547 - acc: 0.0231"
     ]
    }
   ],
   "source": [
    "model = create_model()\n",
    "cbk = create_callbacks()\n",
    "history = model.fit(X,y, epochs=2000, validation_split=0.1, batch_size=128, callbacks=cbk)"
   ]
  },
  {
   "cell_type": "markdown",
   "metadata": {},
   "source": [
    "# Visualize the Training Metadata (Accuracy & Loss)"
   ]
  },
  {
   "cell_type": "code",
   "execution_count": null,
   "metadata": {},
   "outputs": [],
   "source": [
    "import matplotlib.pyplot as plt\n",
    "%matplotlib inline\n",
    "\n",
    "figure = plt.figure()\n",
    "\n",
    "ax1 = figure.add_subplot(211)\n",
    "ax1.plot(history.history['acc'])\n",
    "ax1.plot(history.history['val_acc'])\n",
    "plt.xlabel('Epochs')\n",
    "plt.ylabel('Accuracy')\n",
    "plt.legend(labels=['Training','Validation'])\n",
    "\n",
    "ax1 = figure.add_subplot(212)\n",
    "ax1.plot(history.history['loss'])\n",
    "ax1.plot(history.history['val_loss'])\n",
    "plt.xlabel('Epochs')\n",
    "plt.ylabel('Loss')\n",
    "plt.legend(labels=['Training','Validation'])\n",
    "\n",
    "plt.show()"
   ]
  },
  {
   "cell_type": "markdown",
   "metadata": {},
   "source": [
    "# Save the model"
   ]
  },
  {
   "cell_type": "code",
   "execution_count": null,
   "metadata": {},
   "outputs": [],
   "source": [
    "from pickle import dump\n",
    "model.save('languagemodelling-lstm-model.h5')\n",
    "dump(tokenizer, open('languagemodelling-tokenizer.h5','wb'))"
   ]
  },
  {
   "cell_type": "markdown",
   "metadata": {},
   "source": [
    "# Load the model"
   ]
  },
  {
   "cell_type": "code",
   "execution_count": null,
   "metadata": {},
   "outputs": [],
   "source": [
    "from pickle import load\n",
    "from keras.models import load_model\n",
    "\n",
    "lmodel = load_model('languagemodelling-lstm-model.h5')\n",
    "ltokenizer = load(open('languagemodelling-tokenizer.h5','rb'))\n",
    "\n",
    "#load clean token file\n",
    "def read_cleaned_file(file):\n",
    "    f = open(file,'r', encoding='utf-8')\n",
    "    lines = f.read()\n",
    "    return lines\n",
    "\n",
    "lines = read_cleaned_file('cleaned-republic.txt')\n",
    "lines = lines.split('\\n')"
   ]
  },
  {
   "cell_type": "code",
   "execution_count": null,
   "metadata": {},
   "outputs": [],
   "source": [
    "# Randomly select a line\n",
    "\n",
    "import random\n",
    "linenumber = random.randint(0,200)\n",
    "\n",
    "seed = lines[linenumber]\n",
    "print ('%s'%(seed))"
   ]
  },
  {
   "cell_type": "code",
   "execution_count": null,
   "metadata": {},
   "outputs": [],
   "source": [
    "from keras.preprocessing.sequence import pad_sequences\n",
    "\n",
    "def generate_sequences(model, tokenizer, seed, number):\n",
    "    result = list()\n",
    "    \n",
    "    orig_seed = seed\n",
    "    \n",
    "    for _ in range (number):\n",
    "        \n",
    "        encoder = tokenizer.texts_to_sequences([seed])[0]\n",
    "        \n",
    "        padded = pad_sequences([encoder], truncating='pre', maxlen=words_per_sequence)\n",
    "        yhat = model.predict_classes(padded)\n",
    "        \n",
    "        output = ' '\n",
    "        for word, index in tokenizer.word_index.items():\n",
    "            if index == yhat:\n",
    "                output = word\n",
    "                break\n",
    "        print ('%s'%(output))\n",
    "        seed = seed + ' ' + output\n",
    "        \n",
    "        result.append(output)\n",
    "        \n",
    "generate_sequences(model, tokenizer, seed, 5)"
   ]
  },
  {
   "cell_type": "code",
   "execution_count": null,
   "metadata": {},
   "outputs": [],
   "source": []
  },
  {
   "cell_type": "code",
   "execution_count": null,
   "metadata": {},
   "outputs": [],
   "source": []
  }
 ],
 "metadata": {
  "kernelspec": {
   "display_name": "Python 3",
   "language": "python",
   "name": "python3"
  },
  "language_info": {
   "codemirror_mode": {
    "name": "ipython",
    "version": 3
   },
   "file_extension": ".py",
   "mimetype": "text/x-python",
   "name": "python",
   "nbconvert_exporter": "python",
   "pygments_lexer": "ipython3",
   "version": "3.7.3"
  }
 },
 "nbformat": 4,
 "nbformat_minor": 2
}
