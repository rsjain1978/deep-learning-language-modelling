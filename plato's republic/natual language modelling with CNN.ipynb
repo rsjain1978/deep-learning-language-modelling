{
 "cells": [
  {
   "cell_type": "code",
   "execution_count": 1,
   "metadata": {},
   "outputs": [],
   "source": [
    "import pandas as pd\n",
    "import numpy as np"
   ]
  },
  {
   "cell_type": "markdown",
   "metadata": {},
   "source": [
    "# Read the Republic Data file - Plato document\n",
    "\n",
    "    - This file is available at http://www.gutenberg.org/cache/epub/1497/pg1497.txt\n",
    "    "
   ]
  },
  {
   "cell_type": "code",
   "execution_count": 6,
   "metadata": {},
   "outputs": [],
   "source": [
    "def read_file(file):\n",
    "    f = open(file, 'r', encoding='utf-8')\n",
    "    lines = f.readlines()\n",
    "    data = '\\t'.join([line.strip() for line in lines])\n",
    "    return data\n",
    "\n",
    "data = read_file('republic.txt')"
   ]
  },
  {
   "cell_type": "markdown",
   "metadata": {},
   "source": [
    "# Clean the Read file"
   ]
  },
  {
   "cell_type": "code",
   "execution_count": 7,
   "metadata": {},
   "outputs": [
    {
     "name": "stderr",
     "output_type": "stream",
     "text": [
      "[nltk_data] Downloading package stopwords to C:\\Users\\Aditya\n",
      "[nltk_data]     Jain\\AppData\\Roaming\\nltk_data...\n",
      "[nltk_data]   Package stopwords is already up-to-date!\n"
     ]
    },
    {
     "data": {
      "text/plain": [
       "True"
      ]
     },
     "execution_count": 7,
     "metadata": {},
     "output_type": "execute_result"
    }
   ],
   "source": [
    "import nltk\n",
    "nltk.download('stopwords')"
   ]
  },
  {
   "cell_type": "markdown",
   "metadata": {},
   "source": [
    "# Text cleansing\n",
    "\n",
    "    - Good article available at https://www.analyticsvidhya.com/blog/2018/02/the-different-methods-deal-text-data-predictive-python/"
   ]
  },
  {
   "cell_type": "code",
   "execution_count": 8,
   "metadata": {},
   "outputs": [
    {
     "name": "stdout",
     "output_type": "stream",
     "text": [
      "Number of tokens are  8578\n",
      "Number of unique tokens is  1874\n"
     ]
    }
   ],
   "source": [
    "import re\n",
    "import string\n",
    "from nltk.corpus import stopwords\n",
    "import pandas as pd\n",
    "\n",
    "def clean_doc(doc):\n",
    "    \n",
    "    #replace -- with a space\n",
    "    doc = doc.replace('-',' ')\n",
    "    \n",
    "    #replace -- with a space\n",
    "    doc = doc.replace('.',' ')\n",
    "    \n",
    "    #split into tokens by white space\n",
    "    tokens = doc.split()\n",
    "    \n",
    "    # prepare for char filtering\n",
    "    re_punc = re.compile('[%s]'%re.escape(string.punctuation))\n",
    "    \n",
    "    #remove punctuation from words\n",
    "    tokens = [re_punc.sub('',w) for w in tokens]\n",
    "    \n",
    "    #remove remaining tokens that are not alphanumerics\n",
    "    tokens = [word for word in tokens if word.isalpha()]\n",
    "    \n",
    "    #make lower case\n",
    "    tokens = [word.lower() for word in tokens]\n",
    "    \n",
    "    #remove stop words & words which appear less than 1 times\n",
    "    stops = set(stopwords.words(\"english\"))\n",
    "    #tokens = [word for word in tokens if not word in stops and len(word)>=1]\n",
    "\n",
    "    return tokens\n",
    "\n",
    "tokens = clean_doc(data)\n",
    "                 \n",
    "print ('Number of tokens are ', len(tokens))\n",
    "print ('Number of unique tokens is ', len(set(tokens)))"
   ]
  },
  {
   "cell_type": "markdown",
   "metadata": {},
   "source": [
    "# Generate Sequences\n",
    "\n",
    "    - This method takes in bunch of tokens and then converts those tokens into sequences. The idea here is that we create\n",
    "    sequences of 21 tokens (words) each and then feed each sequence one at a time to the network. each word in the sequence represents a value at a given timesteps. All words in effect become the features"
   ]
  },
  {
   "cell_type": "code",
   "execution_count": 9,
   "metadata": {},
   "outputs": [
    {
     "name": "stdout",
     "output_type": "stream",
     "text": [
      "Total number of sequenes is  8568\n"
     ]
    }
   ],
   "source": [
    "words_per_sequence = 10\n",
    "\n",
    "def generate_sequences(size, tokens):\n",
    "    sequences = list()\n",
    "    size_seq = size + 1\n",
    "    for i in range (0, len(tokens)-size):\n",
    "        seq = tokens[i:size_seq+i]\n",
    "        line = ' '.join(seq)\n",
    "        sequences.append(line)\n",
    "        \n",
    "    print ('Total number of sequenes is ', len(sequences))\n",
    "    return sequences\n",
    "\n",
    "sequences = generate_sequences(words_per_sequence, tokens)"
   ]
  },
  {
   "cell_type": "markdown",
   "metadata": {},
   "source": [
    "# Save generated sequences in new file"
   ]
  },
  {
   "cell_type": "code",
   "execution_count": 10,
   "metadata": {},
   "outputs": [],
   "source": [
    "def save_sequences(filename, sequences):\n",
    "    \n",
    "    file = open(filename,'w',encoding='utf-8')\n",
    "    lines = '\\n'.join(sequences)\n",
    "    file.write(lines)\n",
    "    file.close()\n",
    "    \n",
    "save_sequences('cleaned-republic.txt', sequences)"
   ]
  },
  {
   "cell_type": "markdown",
   "metadata": {},
   "source": [
    "# Read cleaned sequences from file"
   ]
  },
  {
   "cell_type": "code",
   "execution_count": 11,
   "metadata": {},
   "outputs": [],
   "source": [
    "def read_sequences(file):\n",
    "    f = open(file, 'r', encoding='utf-8')\n",
    "    lines = f.read()\n",
    "    return lines\n",
    "\n",
    "lines = read_sequences('cleaned-republic.txt')\n",
    "lines = lines.split('\\n')"
   ]
  },
  {
   "cell_type": "markdown",
   "metadata": {},
   "source": [
    "# Tokenize & Create Sequences of Numbers"
   ]
  },
  {
   "cell_type": "code",
   "execution_count": 12,
   "metadata": {},
   "outputs": [],
   "source": [
    "from keras.preprocessing.text import Tokenizer\n",
    "from keras.preprocessing.sequence import pad_sequences\n",
    "\n",
    "import numpy as np\n",
    "\n",
    "def tokenize_documents(lines):\n",
    "    tokenizer = Tokenizer(num_words=2000)\n",
    "    tokenizer.fit_on_texts(lines)\n",
    "    sequences = tokenizer.texts_to_sequences(lines)\n",
    "    return (tokenizer, sequences)\n",
    "\n",
    "(tokenizer, sequences) = tokenize_documents(lines)\n",
    "sequences = pad_sequences(sequences, maxlen=words_per_sequence, padding='pre')"
   ]
  },
  {
   "cell_type": "code",
   "execution_count": 13,
   "metadata": {},
   "outputs": [
    {
     "name": "stdout",
     "output_type": "stream",
     "text": [
      "Vocab length is  1875\n",
      "Number of sequences is  8568\n",
      "Max length of all sequences is  10\n"
     ]
    }
   ],
   "source": [
    "vocab_len = len (tokenizer.word_index)+1\n",
    "print ('Vocab length is ', vocab_len)\n",
    "print ('Number of sequences is ', len(sequences))\n",
    "maxlength = max([len(seq) for seq in sequences])\n",
    "print ('Max length of all sequences is ', maxlength)"
   ]
  },
  {
   "cell_type": "code",
   "execution_count": 14,
   "metadata": {},
   "outputs": [],
   "source": [
    "from keras.utils import to_categorical\n",
    "\n",
    "sequences = np.array(sequences)\n",
    "X = sequences[:,:words_per_sequence]\n",
    "y = sequences[:,-1]\n",
    "y = to_categorical(y, num_classes=vocab_len)"
   ]
  },
  {
   "cell_type": "markdown",
   "metadata": {},
   "source": [
    "# Configure Callbacks which would be executed during the training phase"
   ]
  },
  {
   "cell_type": "code",
   "execution_count": 15,
   "metadata": {},
   "outputs": [],
   "source": [
    "from keras.callbacks import EarlyStopping\n",
    "from keras.callbacks import ModelCheckpoint\n",
    "from keras.callbacks import ReduceLROnPlateau\n",
    "from keras.callbacks import TensorBoard\n",
    "\n",
    "def create_callbacks():\n",
    "    callbacks = [\n",
    "        EarlyStopping(monitor='acc', patience=5),\n",
    "        ModelCheckpoint(filepath='republic-model.h5', monitor='val_loss', save_best_only=True),\n",
    "        ReduceLROnPlateau(monitor='val_loss', factor=0.1, patience=5)\n",
    "    ]\n",
    "    return callbacks"
   ]
  },
  {
   "cell_type": "markdown",
   "metadata": {},
   "source": [
    "# Actual Language Model"
   ]
  },
  {
   "cell_type": "code",
   "execution_count": 23,
   "metadata": {},
   "outputs": [],
   "source": [
    "from keras.models import Sequential\n",
    "from keras.layers import Dense\n",
    "from keras.layers import Embedding\n",
    "from keras.layers import Flatten\n",
    "from keras.layers import Conv1D, Dropout\n",
    "\n",
    "def create_model():\n",
    "    model = Sequential()\n",
    "    \n",
    "    print ('vocab len ', vocab_len)\n",
    "    \n",
    "    #Embedding layer has three attributes\n",
    "        # input_dim - size of the vocabulary\n",
    "        # output_dim - number of dimensions in which each word is embedded\n",
    "        # input_length - length of each word\n",
    "    model.add(Embedding(input_dim=vocab_len,output_dim=50,input_length=words_per_sequence))\n",
    "    model.add(Conv1D(filters=10, kernel_size=4, activation='relu'))\n",
    "    model.add(Dropout(0.1))\n",
    "    model.add(Conv1D(filters=20, kernel_size=4, activation='relu'))\n",
    "    model.add(Dropout(0.1))\n",
    "    model.add(Conv1D(filters=30, kernel_size=4, activation='relu'))\n",
    "    model.add(Dropout(0.1))\n",
    "    model.add(Dense(100, activation='relu'))\n",
    "    model.add(Dense(vocab_len, activation='softmax'))\n",
    "    model.compile(optimizer='adam', loss='categorical_crossentropy', metrics=['accuracy'])\n",
    "    model.summary()\n",
    "    return model"
   ]
  },
  {
   "cell_type": "code",
   "execution_count": 24,
   "metadata": {},
   "outputs": [
    {
     "name": "stdout",
     "output_type": "stream",
     "text": [
      "vocab len  1875\n",
      "_________________________________________________________________\n",
      "Layer (type)                 Output Shape              Param #   \n",
      "=================================================================\n",
      "embedding_3 (Embedding)      (None, 10, 50)            93750     \n",
      "_________________________________________________________________\n",
      "conv1d_7 (Conv1D)            (None, 7, 10)             2010      \n",
      "_________________________________________________________________\n",
      "dropout_7 (Dropout)          (None, 7, 10)             0         \n",
      "_________________________________________________________________\n",
      "conv1d_8 (Conv1D)            (None, 4, 20)             820       \n",
      "_________________________________________________________________\n",
      "dropout_8 (Dropout)          (None, 4, 20)             0         \n",
      "_________________________________________________________________\n",
      "conv1d_9 (Conv1D)            (None, 1, 30)             2430      \n",
      "_________________________________________________________________\n",
      "dropout_9 (Dropout)          (None, 1, 30)             0         \n",
      "_________________________________________________________________\n",
      "dense_3 (Dense)              (None, 1, 100)            3100      \n",
      "_________________________________________________________________\n",
      "dense_4 (Dense)              (None, 1, 1875)           189375    \n",
      "=================================================================\n",
      "Total params: 291,485\n",
      "Trainable params: 291,485\n",
      "Non-trainable params: 0\n",
      "_________________________________________________________________\n"
     ]
    },
    {
     "ename": "ValueError",
     "evalue": "Error when checking target: expected dense_4 to have 3 dimensions, but got array with shape (8568, 1875)",
     "output_type": "error",
     "traceback": [
      "\u001b[1;31m---------------------------------------------------------------------------\u001b[0m",
      "\u001b[1;31mValueError\u001b[0m                                Traceback (most recent call last)",
      "\u001b[1;32m<ipython-input-24-cce101ce8a8e>\u001b[0m in \u001b[0;36m<module>\u001b[1;34m\u001b[0m\n\u001b[0;32m      2\u001b[0m \u001b[0mcbk\u001b[0m \u001b[1;33m=\u001b[0m \u001b[0mcreate_callbacks\u001b[0m\u001b[1;33m(\u001b[0m\u001b[1;33m)\u001b[0m\u001b[1;33m\u001b[0m\u001b[1;33m\u001b[0m\u001b[0m\n\u001b[0;32m      3\u001b[0m \u001b[1;31m#history = model.fit(X,y, epochs=10, validation_split=0.2, batch_size=32, callbacks=cbk)\u001b[0m\u001b[1;33m\u001b[0m\u001b[1;33m\u001b[0m\u001b[1;33m\u001b[0m\u001b[0m\n\u001b[1;32m----> 4\u001b[1;33m \u001b[0mhistory\u001b[0m \u001b[1;33m=\u001b[0m \u001b[0mmodel\u001b[0m\u001b[1;33m.\u001b[0m\u001b[0mfit\u001b[0m\u001b[1;33m(\u001b[0m\u001b[0mX\u001b[0m\u001b[1;33m,\u001b[0m\u001b[0my\u001b[0m\u001b[1;33m,\u001b[0m \u001b[0mepochs\u001b[0m\u001b[1;33m=\u001b[0m\u001b[1;36m10\u001b[0m\u001b[1;33m,\u001b[0m \u001b[0mvalidation_split\u001b[0m\u001b[1;33m=\u001b[0m\u001b[1;36m0.2\u001b[0m\u001b[1;33m,\u001b[0m \u001b[0mbatch_size\u001b[0m\u001b[1;33m=\u001b[0m\u001b[1;36m32\u001b[0m\u001b[1;33m,\u001b[0m \u001b[0mcallbacks\u001b[0m\u001b[1;33m=\u001b[0m\u001b[0mcbk\u001b[0m\u001b[1;33m)\u001b[0m\u001b[1;33m\u001b[0m\u001b[1;33m\u001b[0m\u001b[0m\n\u001b[0m",
      "\u001b[1;32mC:\\MachineLearning\\anaconda\\lib\\site-packages\\keras\\engine\\training.py\u001b[0m in \u001b[0;36mfit\u001b[1;34m(self, x, y, batch_size, epochs, verbose, callbacks, validation_split, validation_data, shuffle, class_weight, sample_weight, initial_epoch, steps_per_epoch, validation_steps, **kwargs)\u001b[0m\n\u001b[0;32m    950\u001b[0m             \u001b[0msample_weight\u001b[0m\u001b[1;33m=\u001b[0m\u001b[0msample_weight\u001b[0m\u001b[1;33m,\u001b[0m\u001b[1;33m\u001b[0m\u001b[1;33m\u001b[0m\u001b[0m\n\u001b[0;32m    951\u001b[0m             \u001b[0mclass_weight\u001b[0m\u001b[1;33m=\u001b[0m\u001b[0mclass_weight\u001b[0m\u001b[1;33m,\u001b[0m\u001b[1;33m\u001b[0m\u001b[1;33m\u001b[0m\u001b[0m\n\u001b[1;32m--> 952\u001b[1;33m             batch_size=batch_size)\n\u001b[0m\u001b[0;32m    953\u001b[0m         \u001b[1;31m# Prepare validation data.\u001b[0m\u001b[1;33m\u001b[0m\u001b[1;33m\u001b[0m\u001b[1;33m\u001b[0m\u001b[0m\n\u001b[0;32m    954\u001b[0m         \u001b[0mdo_validation\u001b[0m \u001b[1;33m=\u001b[0m \u001b[1;32mFalse\u001b[0m\u001b[1;33m\u001b[0m\u001b[1;33m\u001b[0m\u001b[0m\n",
      "\u001b[1;32mC:\\MachineLearning\\anaconda\\lib\\site-packages\\keras\\engine\\training.py\u001b[0m in \u001b[0;36m_standardize_user_data\u001b[1;34m(self, x, y, sample_weight, class_weight, check_array_lengths, batch_size)\u001b[0m\n\u001b[0;32m    787\u001b[0m                 \u001b[0mfeed_output_shapes\u001b[0m\u001b[1;33m,\u001b[0m\u001b[1;33m\u001b[0m\u001b[1;33m\u001b[0m\u001b[0m\n\u001b[0;32m    788\u001b[0m                 \u001b[0mcheck_batch_axis\u001b[0m\u001b[1;33m=\u001b[0m\u001b[1;32mFalse\u001b[0m\u001b[1;33m,\u001b[0m  \u001b[1;31m# Don't enforce the batch size.\u001b[0m\u001b[1;33m\u001b[0m\u001b[1;33m\u001b[0m\u001b[0m\n\u001b[1;32m--> 789\u001b[1;33m                 exception_prefix='target')\n\u001b[0m\u001b[0;32m    790\u001b[0m \u001b[1;33m\u001b[0m\u001b[0m\n\u001b[0;32m    791\u001b[0m             \u001b[1;31m# Generate sample-wise weight values given the `sample_weight` and\u001b[0m\u001b[1;33m\u001b[0m\u001b[1;33m\u001b[0m\u001b[1;33m\u001b[0m\u001b[0m\n",
      "\u001b[1;32mC:\\MachineLearning\\anaconda\\lib\\site-packages\\keras\\engine\\training_utils.py\u001b[0m in \u001b[0;36mstandardize_input_data\u001b[1;34m(data, names, shapes, check_batch_axis, exception_prefix)\u001b[0m\n\u001b[0;32m    126\u001b[0m                         \u001b[1;34m': expected '\u001b[0m \u001b[1;33m+\u001b[0m \u001b[0mnames\u001b[0m\u001b[1;33m[\u001b[0m\u001b[0mi\u001b[0m\u001b[1;33m]\u001b[0m \u001b[1;33m+\u001b[0m \u001b[1;34m' to have '\u001b[0m \u001b[1;33m+\u001b[0m\u001b[1;33m\u001b[0m\u001b[1;33m\u001b[0m\u001b[0m\n\u001b[0;32m    127\u001b[0m                         \u001b[0mstr\u001b[0m\u001b[1;33m(\u001b[0m\u001b[0mlen\u001b[0m\u001b[1;33m(\u001b[0m\u001b[0mshape\u001b[0m\u001b[1;33m)\u001b[0m\u001b[1;33m)\u001b[0m \u001b[1;33m+\u001b[0m \u001b[1;34m' dimensions, but got array '\u001b[0m\u001b[1;33m\u001b[0m\u001b[1;33m\u001b[0m\u001b[0m\n\u001b[1;32m--> 128\u001b[1;33m                         'with shape ' + str(data_shape))\n\u001b[0m\u001b[0;32m    129\u001b[0m                 \u001b[1;32mif\u001b[0m \u001b[1;32mnot\u001b[0m \u001b[0mcheck_batch_axis\u001b[0m\u001b[1;33m:\u001b[0m\u001b[1;33m\u001b[0m\u001b[1;33m\u001b[0m\u001b[0m\n\u001b[0;32m    130\u001b[0m                     \u001b[0mdata_shape\u001b[0m \u001b[1;33m=\u001b[0m \u001b[0mdata_shape\u001b[0m\u001b[1;33m[\u001b[0m\u001b[1;36m1\u001b[0m\u001b[1;33m:\u001b[0m\u001b[1;33m]\u001b[0m\u001b[1;33m\u001b[0m\u001b[1;33m\u001b[0m\u001b[0m\n",
      "\u001b[1;31mValueError\u001b[0m: Error when checking target: expected dense_4 to have 3 dimensions, but got array with shape (8568, 1875)"
     ]
    }
   ],
   "source": [
    "model = create_model()\n",
    "cbk = create_callbacks()\n",
    "#history = model.fit(X,y, epochs=10, validation_split=0.2, batch_size=32, callbacks=cbk)\n",
    "history = model.fit(X,y, epochs=10, validation_split=0.2, batch_size=32, callbacks=cbk)"
   ]
  },
  {
   "cell_type": "markdown",
   "metadata": {},
   "source": [
    "# Visualize the Training Metadata (Accuracy & Loss)"
   ]
  },
  {
   "cell_type": "code",
   "execution_count": 2,
   "metadata": {},
   "outputs": [
    {
     "ename": "NameError",
     "evalue": "name 'history' is not defined",
     "output_type": "error",
     "traceback": [
      "\u001b[1;31m---------------------------------------------------------------------------\u001b[0m",
      "\u001b[1;31mNameError\u001b[0m                                 Traceback (most recent call last)",
      "\u001b[1;32m<ipython-input-2-5fefa488f469>\u001b[0m in \u001b[0;36m<module>\u001b[1;34m\u001b[0m\n\u001b[0;32m      2\u001b[0m \u001b[0mget_ipython\u001b[0m\u001b[1;33m(\u001b[0m\u001b[1;33m)\u001b[0m\u001b[1;33m.\u001b[0m\u001b[0mrun_line_magic\u001b[0m\u001b[1;33m(\u001b[0m\u001b[1;34m'matplotlib'\u001b[0m\u001b[1;33m,\u001b[0m \u001b[1;34m'inline'\u001b[0m\u001b[1;33m)\u001b[0m\u001b[1;33m\u001b[0m\u001b[1;33m\u001b[0m\u001b[0m\n\u001b[0;32m      3\u001b[0m \u001b[1;33m\u001b[0m\u001b[0m\n\u001b[1;32m----> 4\u001b[1;33m \u001b[0mprint\u001b[0m \u001b[1;33m(\u001b[0m\u001b[0mhistory\u001b[0m\u001b[1;33m)\u001b[0m\u001b[1;33m\u001b[0m\u001b[1;33m\u001b[0m\u001b[0m\n\u001b[0m\u001b[0;32m      5\u001b[0m \u001b[0mfigure\u001b[0m \u001b[1;33m=\u001b[0m \u001b[0mplt\u001b[0m\u001b[1;33m.\u001b[0m\u001b[0mfigure\u001b[0m\u001b[1;33m(\u001b[0m\u001b[1;33m)\u001b[0m\u001b[1;33m\u001b[0m\u001b[1;33m\u001b[0m\u001b[0m\n\u001b[0;32m      6\u001b[0m \u001b[1;33m\u001b[0m\u001b[0m\n",
      "\u001b[1;31mNameError\u001b[0m: name 'history' is not defined"
     ]
    }
   ],
   "source": [
    "import matplotlib.pyplot as plt\n",
    "%matplotlib inline\n",
    "\n",
    "print (history)\n",
    "figure = plt.figure()\n",
    "\n",
    "ax1 = figure.add_subplot(211)\n",
    "ax1.plot(history.history['acc'])\n",
    "ax1.plot(history.history['val_acc'])\n",
    "plt.xlabel('Epochs')\n",
    "plt.ylabel('Accuracy')\n",
    "plt.legend(labels=['Training','Validation'])\n",
    "\n",
    "ax1 = figure.add_subplot(212)\n",
    "ax1.plot(history.history['loss'])\n",
    "ax1.plot(history.history['val_loss'])\n",
    "plt.xlabel('Epochs')\n",
    "plt.ylabel('Loss')\n",
    "plt.legend(labels=['Training','Validation'])\n",
    "\n",
    "plt.show()"
   ]
  },
  {
   "cell_type": "markdown",
   "metadata": {},
   "source": [
    "# Save the model"
   ]
  },
  {
   "cell_type": "code",
   "execution_count": null,
   "metadata": {},
   "outputs": [],
   "source": [
    "from pickle import dump\n",
    "model.save('languagemodelling-cnn-lstm-model.h5')\n",
    "dump(tokenizer, open('languagemodelling-tokenizer.h5','wb'))"
   ]
  },
  {
   "cell_type": "markdown",
   "metadata": {},
   "source": [
    "# Load the model"
   ]
  },
  {
   "cell_type": "code",
   "execution_count": null,
   "metadata": {},
   "outputs": [],
   "source": [
    "from pickle import load\n",
    "from keras.models import load_model\n",
    "\n",
    "lmodel = load_model('languagemodelling-cnn-lstm-model.h5')\n",
    "ltokenizer = load(open('languagemodelling-tokenizer.h5','rb'))\n",
    "\n",
    "#load clean token file\n",
    "def read_cleaned_file(file):\n",
    "    f = open(file,'r', encoding='utf-8')\n",
    "    lines = f.read()\n",
    "    return lines\n",
    "\n",
    "lines = read_cleaned_file('cleaned-republic.txt')\n",
    "lines = lines.split('\\n')"
   ]
  },
  {
   "cell_type": "code",
   "execution_count": null,
   "metadata": {},
   "outputs": [],
   "source": [
    "# Randomly select a line\n",
    "\n",
    "import random\n",
    "linenumber = random.randint(0,200)\n",
    "\n",
    "seed = lines[linenumber]\n",
    "print ('%s'%(seed))"
   ]
  },
  {
   "cell_type": "code",
   "execution_count": null,
   "metadata": {},
   "outputs": [],
   "source": [
    "from keras.preprocessing.sequence import pad_sequences\n",
    "\n",
    "def generate_sequences(model, tokenizer, seed, number):\n",
    "    result = list()\n",
    "    \n",
    "    orig_seed = seed\n",
    "    \n",
    "    for _ in range (number):\n",
    "        \n",
    "        encoder = tokenizer.texts_to_sequences([seed])[0]\n",
    "        \n",
    "        padded = pad_sequences([encoder], truncating='pre', maxlen=words_per_sequence)\n",
    "        \n",
    "        yhat = model.predict_classes(padded)\n",
    "        \n",
    "        output = ' '\n",
    "        for word, index in tokenizer.word_index.items():\n",
    "            if index == yhat:\n",
    "                output = word\n",
    "                break\n",
    "        print ('%s %s'%(orig_seed, output))\n",
    "        seed = seed + ' ' + output\n",
    "        \n",
    "        result.append(output)\n",
    "        \n",
    "generate_sequences(model, tokenizer, seed, 20)"
   ]
  },
  {
   "cell_type": "code",
   "execution_count": null,
   "metadata": {},
   "outputs": [],
   "source": []
  }
 ],
 "metadata": {
  "kernelspec": {
   "display_name": "Python 3",
   "language": "python",
   "name": "python3"
  },
  "language_info": {
   "codemirror_mode": {
    "name": "ipython",
    "version": 3
   },
   "file_extension": ".py",
   "mimetype": "text/x-python",
   "name": "python",
   "nbconvert_exporter": "python",
   "pygments_lexer": "ipython3",
   "version": "3.7.3"
  }
 },
 "nbformat": 4,
 "nbformat_minor": 2
}
