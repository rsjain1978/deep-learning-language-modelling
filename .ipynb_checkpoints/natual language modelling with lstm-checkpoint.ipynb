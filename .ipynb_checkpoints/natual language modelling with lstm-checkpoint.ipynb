{
 "cells": [
  {
   "cell_type": "code",
   "execution_count": 1,
   "metadata": {},
   "outputs": [],
   "source": [
    "import pandas as pd\n",
    "import numpy as np"
   ]
  },
  {
   "cell_type": "markdown",
   "metadata": {},
   "source": [
    "# Read the Republic Data file - Plato document\n",
    "\n",
    "    - This file is available at http://www.gutenberg.org/cache/epub/1497/pg1497.txt\n",
    "    "
   ]
  },
  {
   "cell_type": "code",
   "execution_count": 2,
   "metadata": {},
   "outputs": [],
   "source": [
    "def read_file(file):\n",
    "    f = open(file, 'r', encoding='utf-8')\n",
    "    lines = f.readlines()\n",
    "    data = '\\t'.join([line.strip() for line in lines])\n",
    "    return data\n",
    "\n",
    "data = read_file('republic.txt')"
   ]
  },
  {
   "cell_type": "markdown",
   "metadata": {},
   "source": [
    "# Clean the Read file"
   ]
  },
  {
   "cell_type": "code",
   "execution_count": 3,
   "metadata": {},
   "outputs": [
    {
     "name": "stderr",
     "output_type": "stream",
     "text": [
      "[nltk_data] Downloading package stopwords to C:\\Users\\Aditya\n",
      "[nltk_data]     Jain\\AppData\\Roaming\\nltk_data...\n",
      "[nltk_data]   Package stopwords is already up-to-date!\n"
     ]
    },
    {
     "data": {
      "text/plain": [
       "True"
      ]
     },
     "execution_count": 3,
     "metadata": {},
     "output_type": "execute_result"
    }
   ],
   "source": [
    "import nltk\n",
    "nltk.download('stopwords')"
   ]
  },
  {
   "cell_type": "code",
   "execution_count": 4,
   "metadata": {},
   "outputs": [
    {
     "name": "stdout",
     "output_type": "stream",
     "text": [
      "Number of tokens is  90229\n",
      "Number of unique tokens is  10117\n"
     ]
    }
   ],
   "source": [
    "import re\n",
    "import string\n",
    "from nltk.corpus import stopwords\n",
    "import pandas as pd\n",
    "\n",
    "def clean_doc(doc):\n",
    "    \n",
    "    #replace -- with a space\n",
    "    doc = doc.replace('--',' ')\n",
    "    \n",
    "    #split into tokens by white space\n",
    "    tokens = doc.split()\n",
    "    \n",
    "    # prepare for char filtering\n",
    "    re_punc = re.compile('[%s]'%re.escape(string.punctuation))\n",
    "    \n",
    "    #remove punctuation from words\n",
    "    tokens = [re_punc.sub('',w) for w in tokens]\n",
    "    \n",
    "    #remove remaining tokens that are not alphanumerics\n",
    "    tokens = [word for word in tokens if word.isalpha()]\n",
    "    \n",
    "    #make lower case\n",
    "    tokens = [word.lower() for word in tokens]\n",
    "    \n",
    "    #remove stop words\n",
    "    stops = set(stopwords.words(\"english\"))\n",
    "    tokens = [word for word in tokens if not word in stops and len(word)>=3]\n",
    "    \n",
    "    return tokens\n",
    "\n",
    "tokens = clean_doc(data)\n",
    "                 \n",
    "print ('Number of tokens is ', len(tokens))\n",
    "print ('Number of unique tokens is ', len(set(tokens)))"
   ]
  },
  {
   "cell_type": "markdown",
   "metadata": {},
   "source": [
    "# Generate Sequences\n",
    "\n",
    "    - This method takes in bunch of tokens and then converts those tokens into sequences. The idea here is that we create\n",
    "    sequences of 21 tokens (words) each and then feed each sequence one at a time to the network. each word in the sequence represents a value at a given timesteps. All words in effect become the features"
   ]
  },
  {
   "cell_type": "code",
   "execution_count": 5,
   "metadata": {},
   "outputs": [
    {
     "name": "stdout",
     "output_type": "stream",
     "text": [
      "Total number of sequenes is  90209\n"
     ]
    }
   ],
   "source": [
    "words_per_sequence = 20\n",
    "\n",
    "def generate_sequences(size, tokens):\n",
    "    sequences = list()\n",
    "    size_seq = size + 1\n",
    "    for i in range (0, len(tokens)-size):\n",
    "        seq = tokens[i:size_seq+i]\n",
    "        line = ' '.join(seq)\n",
    "        sequences.append(line)\n",
    "        \n",
    "    print ('Total number of sequenes is ', len(sequences))\n",
    "    return sequences\n",
    "\n",
    "sequences = generate_sequences(words_per_sequence, tokens)"
   ]
  },
  {
   "cell_type": "markdown",
   "metadata": {},
   "source": [
    "# Save generated sequences in new file"
   ]
  },
  {
   "cell_type": "code",
   "execution_count": 6,
   "metadata": {},
   "outputs": [],
   "source": [
    "def save_sequences(filename, sequences):\n",
    "    \n",
    "    file = open(filename,'w',encoding='utf-8')\n",
    "    lines = '\\n'.join(sequences)\n",
    "    file.write(lines)\n",
    "    file.close()\n",
    "    \n",
    "save_sequences('cleaned-republic.txt', sequences)"
   ]
  },
  {
   "cell_type": "markdown",
   "metadata": {},
   "source": [
    "# Read cleaned sequences from file"
   ]
  },
  {
   "cell_type": "code",
   "execution_count": 7,
   "metadata": {},
   "outputs": [],
   "source": [
    "def read_sequences(file):\n",
    "    f = open(file, 'r', encoding='utf-8')\n",
    "    lines = f.read()\n",
    "    return lines\n",
    "\n",
    "lines = read_sequences('cleaned-republic.txt')\n",
    "lines = lines.split('\\n')"
   ]
  },
  {
   "cell_type": "markdown",
   "metadata": {},
   "source": [
    "# Tokenize & Create Sequences of Numbers"
   ]
  },
  {
   "cell_type": "code",
   "execution_count": 8,
   "metadata": {},
   "outputs": [
    {
     "name": "stderr",
     "output_type": "stream",
     "text": [
      "Using TensorFlow backend.\n"
     ]
    }
   ],
   "source": [
    "from keras.preprocessing.text import Tokenizer\n",
    "import numpy as np\n",
    "\n",
    "def tokenize_documents(lines):\n",
    "    tokenizer = Tokenizer(num_words=2000)\n",
    "    tokenizer.fit_on_texts(lines)\n",
    "    sequences = tokenizer.texts_to_sequences(lines)\n",
    "    return (tokenizer, sequences)\n",
    "\n",
    "(tokenizer, sequences) = tokenize_documents(lines)\n",
    "sequences = np.array(sequences)"
   ]
  },
  {
   "cell_type": "code",
   "execution_count": 9,
   "metadata": {},
   "outputs": [
    {
     "name": "stdout",
     "output_type": "stream",
     "text": [
      "Vocab length is  10118\n",
      "Number of sequences is  90209\n",
      "Max length of all sequences is  21\n"
     ]
    }
   ],
   "source": [
    "vocab_len = len (tokenizer.word_index)+1\n",
    "print ('Vocab length is ', vocab_len)\n",
    "print ('Number of sequences is ', len(sequences))\n",
    "maxlength = max([len(seq) for seq in sequences])\n",
    "print ('Max length of all sequences is ', maxlength)"
   ]
  },
  {
   "cell_type": "code",
   "execution_count": 10,
   "metadata": {},
   "outputs": [
    {
     "ename": "IndexError",
     "evalue": "too many indices for array",
     "output_type": "error",
     "traceback": [
      "\u001b[1;31m---------------------------------------------------------------------------\u001b[0m",
      "\u001b[1;31mIndexError\u001b[0m                                Traceback (most recent call last)",
      "\u001b[1;32m<ipython-input-10-1a70b5b53c79>\u001b[0m in \u001b[0;36m<module>\u001b[1;34m\u001b[0m\n\u001b[0;32m      2\u001b[0m \u001b[1;33m\u001b[0m\u001b[0m\n\u001b[0;32m      3\u001b[0m \u001b[0msequences\u001b[0m \u001b[1;33m=\u001b[0m \u001b[0mnp\u001b[0m\u001b[1;33m.\u001b[0m\u001b[0marray\u001b[0m\u001b[1;33m(\u001b[0m\u001b[0msequences\u001b[0m\u001b[1;33m)\u001b[0m\u001b[1;33m\u001b[0m\u001b[1;33m\u001b[0m\u001b[0m\n\u001b[1;32m----> 4\u001b[1;33m \u001b[0mX\u001b[0m \u001b[1;33m=\u001b[0m \u001b[0msequences\u001b[0m\u001b[1;33m[\u001b[0m\u001b[1;33m:\u001b[0m\u001b[1;33m,\u001b[0m\u001b[1;33m:\u001b[0m\u001b[0mwords_per_sequence\u001b[0m\u001b[1;33m]\u001b[0m\u001b[1;33m\u001b[0m\u001b[1;33m\u001b[0m\u001b[0m\n\u001b[0m\u001b[0;32m      5\u001b[0m \u001b[0my\u001b[0m \u001b[1;33m=\u001b[0m \u001b[0msequences\u001b[0m\u001b[1;33m[\u001b[0m\u001b[1;33m:\u001b[0m\u001b[1;33m,\u001b[0m\u001b[1;33m-\u001b[0m\u001b[1;36m1\u001b[0m\u001b[1;33m]\u001b[0m\u001b[1;33m\u001b[0m\u001b[1;33m\u001b[0m\u001b[0m\n\u001b[0;32m      6\u001b[0m \u001b[0my\u001b[0m \u001b[1;33m=\u001b[0m \u001b[0mto_categorical\u001b[0m\u001b[1;33m(\u001b[0m\u001b[0my\u001b[0m\u001b[1;33m,\u001b[0m \u001b[0mnum_classes\u001b[0m\u001b[1;33m=\u001b[0m\u001b[0mvocab_len\u001b[0m\u001b[1;33m)\u001b[0m\u001b[1;33m\u001b[0m\u001b[1;33m\u001b[0m\u001b[0m\n",
      "\u001b[1;31mIndexError\u001b[0m: too many indices for array"
     ]
    }
   ],
   "source": [
    "from keras.utils import to_categorical\n",
    "\n",
    "sequences = np.array(sequences)\n",
    "X = sequences[:,:words_per_sequence]\n",
    "y = sequences[:,-1]\n",
    "y = to_categorical(y, num_classes=vocab_len)"
   ]
  },
  {
   "cell_type": "markdown",
   "metadata": {},
   "source": [
    "# Actual Language Model"
   ]
  },
  {
   "cell_type": "code",
   "execution_count": null,
   "metadata": {},
   "outputs": [],
   "source": [
    "from keras.callbacks import EarlyStopping\n",
    "from keras.callbacks import ModelCheckpoint\n",
    "from keras.callbacks import ReduceLROnPlateau\n",
    "from keras.callbacks import TensorBoard\n",
    "\n",
    "def create_callbacks():\n",
    "    callbacks = [\n",
    "        EarlyStopping(monitor='acc', patience=3)\n",
    "    ]\n",
    "    return callbacks"
   ]
  },
  {
   "cell_type": "code",
   "execution_count": null,
   "metadata": {},
   "outputs": [],
   "source": [
    "from keras.models import Sequential\n",
    "from keras.layers import Dense\n",
    "from keras.layers import Embedding\n",
    "from keras.layers import Flatten\n",
    "from keras.layers import LSTM\n",
    "\n",
    "def create_model():\n",
    "    model = Sequential()\n",
    "    \n",
    "    #Embedding layer has three attributes\n",
    "        # input_dim - size of the vocabulary\n",
    "        # output_dim - number of dimensions in which each word is embedded\n",
    "        # input_length - length of each word\n",
    "    model.add(Embedding(input_dim=vocab_len,output_dim=20,input_length=words_per_sequence))\n",
    "    model.add(LSTM(100, return_sequences=True))\n",
    "    model.add(LSTM(100))\n",
    "    model.add(Dense(100, activation='relu'))\n",
    "    model.add(Dense(vocab_len, activation='sigmoid'))\n",
    "    model.compile(optimizer='adam', loss='categorical_crossentropy', metrics=['accuracy'])\n",
    "    model.summary()\n",
    "    return model"
   ]
  },
  {
   "cell_type": "code",
   "execution_count": null,
   "metadata": {},
   "outputs": [],
   "source": [
    "model = create_model()\n",
    "cbk = create_callbacks()\n",
    "history = model.fit(X,y, epochs=100, batch_size=128, callbacks=cbk)"
   ]
  },
  {
   "cell_type": "code",
   "execution_count": null,
   "metadata": {},
   "outputs": [],
   "source": [
    "from tensorflow.python.client import device_lib\n",
    "print(device_lib.list_local_devices())"
   ]
  },
  {
   "cell_type": "code",
   "execution_count": null,
   "metadata": {},
   "outputs": [],
   "source": []
  }
 ],
 "metadata": {
  "kernelspec": {
   "display_name": "Python 3",
   "language": "python",
   "name": "python3"
  },
  "language_info": {
   "codemirror_mode": {
    "name": "ipython",
    "version": 3
   },
   "file_extension": ".py",
   "mimetype": "text/x-python",
   "name": "python",
   "nbconvert_exporter": "python",
   "pygments_lexer": "ipython3",
   "version": "3.7.3"
  }
 },
 "nbformat": 4,
 "nbformat_minor": 2
}
